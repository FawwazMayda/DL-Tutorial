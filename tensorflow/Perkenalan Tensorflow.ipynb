{
 "cells": [
  {
   "cell_type": "markdown",
   "metadata": {},
   "source": [
    "<h1>Perkenalan TensorFlow</h1>\n",
    "\n",
    "TensorFlow adalah sebuah Framework deep learning yang cukup populer dewasa ini. Framework ini diperkenalkan Google pada tahun 2015 sebagai tools yang digunakan oleh team Google Brains.\n",
    "\n",
    "<img src=\"https://ih1.redbubble.net/image.417529577.1159/flat,800x800,075,f.jpg\"/>\n",
    "\n",
    "Pada Tutorial ini kita akan menggunakan versi 1.14.0 dari Tensorflow (mungkin punya anda lebih tinggi), dan kita akan mencoba meng-cover mengenai operasi dasar pada Tensorflow seperti add,matmul, Placeholder, Variabel, dan berbagai Operasi Tensor lainnya."
   ]
  },
  {
   "cell_type": "code",
   "execution_count": null,
   "metadata": {},
   "outputs": [],
   "source": [
    "https://ih1.redbubble.net/image.417529577.1159/flat,800x800,075,f.jpg"
   ]
  },
  {
   "cell_type": "code",
   "execution_count": 1,
   "metadata": {},
   "outputs": [],
   "source": [
    "import tensorflow as tf"
   ]
  },
  {
   "cell_type": "code",
   "execution_count": null,
   "metadata": {},
   "outputs": [],
   "source": []
  }
 ],
 "metadata": {
  "kernelspec": {
   "display_name": "Python 3",
   "language": "python",
   "name": "python3"
  },
  "language_info": {
   "codemirror_mode": {
    "name": "ipython",
    "version": 3
   },
   "file_extension": ".py",
   "mimetype": "text/x-python",
   "name": "python",
   "nbconvert_exporter": "python",
   "pygments_lexer": "ipython3",
   "version": "3.6.5"
  }
 },
 "nbformat": 4,
 "nbformat_minor": 2
}
