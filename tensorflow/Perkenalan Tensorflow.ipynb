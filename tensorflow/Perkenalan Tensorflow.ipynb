{
 "cells": [
  {
   "cell_type": "markdown",
   "metadata": {},
   "source": [
    "<h1>Perkenalan TensorFlow</h1>\n",
    "\n",
    "TensorFlow adalah sebuah Framework deep learning yang cukup populer dewasa ini. Framework ini diperkenalkan Google pada tahun 2015 sebagai tools yang digunakan oleh team Google Brains.\n",
    "\n",
    "<img src=\"https://ih1.redbubble.net/image.417529577.1159/flat,800x800,075,f.jpg\"/>\n",
    "\n",
    "Pada Tutorial ini kita akan menggunakan versi 1.14.0 dari Tensorflow (mungkin punya anda lebih tinggi), dan kita akan mencoba meng-cover mengenai operasi dasar pada Tensorflow seperti add,matmul, Placeholder, Variabel, dan berbagai Operasi Tensor lainnya."
   ]
  },
  {
   "cell_type": "markdown",
   "metadata": {},
   "source": [
    "<div class=\"alert alert-block alert-info\" style=\"margin-top: 20px\">\n",
    "<font size = 3><strong>Disini kita akan meng-cover dasar-dasar Tensorflow</strong></font>\n",
    "<br>\n",
    "<h2>Table of Contents</h2>\n",
    "<ol>\n",
    "    <li><a href=\"#ref2\">Cara kerja Tensorflow?</a></li>\n",
    "    <li><a href=\"#ref3\">Membuat Graph</a></li>\n",
    "    <li><a href=\"#ref4\">Mendefinisikan Array Multidimensional</a></li>\n",
    "    <li><a href=\"#ref5\">Apa itu Tensor?</a></li>\n",
    "    <li><a href=\"#ref6\">Variables</a></li>\n",
    "    <li><a href=\"#ref7\">Placeholders</a></li>\n",
    "    <li><a href=\"#ref8\">Operations</a></li>\n",
    "</ol>\n",
    "<p></p>\n",
    "</div>\n",
    "<br>\n",
    "\n",
    "<hr>"
   ]
  },
  {
   "cell_type": "markdown",
   "metadata": {},
   "source": [
    "<a id=\"ref2\"></a>\n",
    "<h2>Bagaimana Tensorflow bekerja?</h2>\n",
    "TensorFlow mendefinisikan serangkaian komputasi dengan konsep Graph, yang dimana terdiri dari berbagai Operasi (\"ops\"). \n",
    "Sehingga ketika menggunakan Tensorflow kita menggunakan serangkaian Operasi pada Graph.\n",
    "\n",
    "Untuk melakukan eksekusi kita perlu membuat sebuah <b>Session</b> (ini adalah mengapa Tensorflow memiliki paradigma static graph yang berbeda dengan Pytorch yang bersifat Dynamic Graph). <br>\n",
    "<b>Session</b> menerjemahkan dan meneruskan operasi yang dinyatakan sebagai Graph kepada perangkat komputasi yang bisa mengeksekusi nya seperti CPU,GPU, atau bahkan TPU.\n",
    "\n",
    "\n",
    "Sebagai contoh gambar dibawah \n",
    "<b>W</b>, <b>x</b> and b adalah tensor. \n",
    "<b>MatMul</b> adalah operasi yang bisa dilakukan pada Tensor <b>W</b> dan <b>x</b>, setelah itu <b>Add</b> dijalankan dan melakukan\n",
    "operasi penjumlahan dengan hasil tensor sebelumnya<b>b</b>. \n",
    "Hasil dari tensor tersebut diteruskan hingga kepada bagian akhir untuk mendapatkan hasil yang dinginkan."
   ]
  },
  {
   "cell_type": "markdown",
   "metadata": {},
   "source": [
    "<img src='https://ibm.box.com/shared/static/a94cgezzwbkrq02jzfjjljrcaozu5s2q.png' >\n"
   ]
  },
  {
   "cell_type": "markdown",
   "metadata": {},
   "source": [
    "<a id=\"ref3\"></a>\n",
    "# Membuat Graph\n",
    "\n",
    "Seperti yang telah saya jelaskan sebelumnya bahwa Tensorflow bekerja pada basis Graph, disini kita akan mempraktikkan membuat Graph pertama kita yang bernama <b>graph1</b>."
   ]
  },
  {
   "cell_type": "code",
   "execution_count": 1,
   "metadata": {},
   "outputs": [],
   "source": [
    "import tensorflow as tf"
   ]
  },
  {
   "cell_type": "code",
   "execution_count": 4,
   "metadata": {},
   "outputs": [],
   "source": [
    "graph1 = tf.Graph()"
   ]
  },
  {
   "cell_type": "code",
   "execution_count": 5,
   "metadata": {},
   "outputs": [
    {
     "data": {
      "text/plain": [
       "tensorflow.python.framework.ops.Graph"
      ]
     },
     "execution_count": 5,
     "metadata": {},
     "output_type": "execute_result"
    }
   ],
   "source": [
    "type(graph1)"
   ]
  },
  {
   "cell_type": "code",
   "execution_count": null,
   "metadata": {},
   "outputs": [],
   "source": []
  },
  {
   "cell_type": "code",
   "execution_count": 6,
   "metadata": {},
   "outputs": [],
   "source": [
    "with graph1.as_default():\n",
    "    a=tf.constant([2],name=\"constant_a\")\n",
    "    b=tf.constant([7],name=\"constant_b\")"
   ]
  },
  {
   "cell_type": "code",
   "execution_count": 7,
   "metadata": {},
   "outputs": [
    {
     "data": {
      "text/plain": [
       "<tf.Tensor 'constant_a:0' shape=(1,) dtype=int32>"
      ]
     },
     "execution_count": 7,
     "metadata": {},
     "output_type": "execute_result"
    }
   ],
   "source": [
    "a"
   ]
  },
  {
   "cell_type": "code",
   "execution_count": 8,
   "metadata": {},
   "outputs": [
    {
     "data": {
      "text/plain": [
       "<tf.Tensor 'constant_b:0' shape=(1,) dtype=int32>"
      ]
     },
     "execution_count": 8,
     "metadata": {},
     "output_type": "execute_result"
    }
   ],
   "source": [
    "b"
   ]
  },
  {
   "cell_type": "code",
   "execution_count": 14,
   "metadata": {},
   "outputs": [],
   "source": [
    "c1 = a + b\n",
    "# pada dasarnya kedua operasi adalah sama\n",
    "c2 = tf.add(a,b)"
   ]
  },
  {
   "cell_type": "code",
   "execution_count": 15,
   "metadata": {},
   "outputs": [
    {
     "data": {
      "text/plain": [
       "<tf.Tensor 'add_2:0' shape=(1,) dtype=int32>"
      ]
     },
     "execution_count": 15,
     "metadata": {},
     "output_type": "execute_result"
    }
   ],
   "source": [
    "c1"
   ]
  },
  {
   "cell_type": "code",
   "execution_count": 16,
   "metadata": {},
   "outputs": [
    {
     "data": {
      "text/plain": [
       "<tf.Tensor 'Add_3:0' shape=(1,) dtype=int32>"
      ]
     },
     "execution_count": 16,
     "metadata": {},
     "output_type": "execute_result"
    }
   ],
   "source": [
    "c2"
   ]
  },
  {
   "cell_type": "code",
   "execution_count": null,
   "metadata": {},
   "outputs": [],
   "source": [
    "with tf.Session(graph=graph1) as sess:\n",
    "    print(sess.run(c1))\n",
    "    print(sess.run(c2))"
   ]
  },
  {
   "cell_type": "code",
   "execution_count": null,
   "metadata": {},
   "outputs": [],
   "source": []
  }
 ],
 "metadata": {
  "kernelspec": {
   "display_name": "Python 3",
   "language": "python",
   "name": "python3"
  },
  "language_info": {
   "codemirror_mode": {
    "name": "ipython",
    "version": 3
   },
   "file_extension": ".py",
   "mimetype": "text/x-python",
   "name": "python",
   "nbconvert_exporter": "python",
   "pygments_lexer": "ipython3",
   "version": "3.6.5"
  }
 },
 "nbformat": 4,
 "nbformat_minor": 2
}
